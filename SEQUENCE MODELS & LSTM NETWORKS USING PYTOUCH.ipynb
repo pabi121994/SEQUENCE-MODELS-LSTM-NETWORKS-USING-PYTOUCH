{
 "cells": [
  {
   "cell_type": "code",
   "execution_count": 2,
   "metadata": {},
   "outputs": [
    {
     "data": {
      "text/plain": [
       "<torch._C.Generator at 0x22561c9c070>"
      ]
     },
     "execution_count": 2,
     "metadata": {},
     "output_type": "execute_result"
    }
   ],
   "source": [
    "import torch\n",
    "import torch.nn as nn\n",
    "import torch.nn.functional as F\n",
    "import torch.optim as optim\n",
    "\n",
    "torch.manual_seed(1)"
   ]
  },
  {
   "cell_type": "code",
   "execution_count": 30,
   "metadata": {},
   "outputs": [
    {
     "name": "stdout",
     "output_type": "stream",
     "text": [
      "tensor([[[-0.0334, -0.5591, -0.2566]],\n",
      "\n",
      "        [[ 0.0317, -0.3944,  0.0209]],\n",
      "\n",
      "        [[ 0.0296, -0.4972, -0.1299]],\n",
      "\n",
      "        [[ 0.1421, -0.1776, -0.0583]],\n",
      "\n",
      "        [[ 0.1365, -0.0671, -0.0044]],\n",
      "\n",
      "        [[ 0.1253, -0.2170,  0.1652]],\n",
      "\n",
      "        [[ 0.1184, -0.2709,  0.1502]],\n",
      "\n",
      "        [[ 0.1375, -0.0719,  0.2066]],\n",
      "\n",
      "        [[ 0.1809, -0.2295,  0.2383]],\n",
      "\n",
      "        [[ 0.2260, -0.4737,  0.1204]],\n",
      "\n",
      "        [[ 0.2037, -0.5295,  0.0994]],\n",
      "\n",
      "        [[ 0.1898, -0.6250,  0.1070]],\n",
      "\n",
      "        [[ 0.1745, -0.2197,  0.0890]],\n",
      "\n",
      "        [[ 0.0977, -0.1085, -0.0684]],\n",
      "\n",
      "        [[ 0.1548, -0.0131,  0.0663]]], grad_fn=<StackBackward>)\n",
      "(tensor([[[ 0.1548, -0.0131,  0.0663]]], grad_fn=<StackBackward>), tensor([[[ 0.2862, -0.0470,  0.1297]]], grad_fn=<StackBackward>))\n"
     ]
    }
   ],
   "source": [
    "lstm = nn.LSTM(3, 3)  # Input dim is 3, output dim is 3\n",
    "inputs = [torch.randn(1, 3) for _ in range(15)]  # make a sequence of length 5\n",
    "\n",
    "# initialize the hidden state.\n",
    "hidden = (torch.randn(1, 1, 3),\n",
    "          torch.randn(1, 1, 3))\n",
    "for i in inputs:\n",
    "    # Step through the sequence one element at a time.\n",
    "    # after each step, hidden contains the hidden state.\n",
    "    out, hidden = lstm(i.view(1, 1, -1), hidden)\n",
    "\n",
    "# alternatively, we can do the entire sequence all at once.\n",
    "# the first value returned by LSTM is all of the hidden states throughout\n",
    "# the sequence. the second is just the most recent hidden state\n",
    "# (compare the last slice of \"out\" with \"hidden\" below, they are the same)\n",
    "# The reason for this is that:\n",
    "# \"out\" will give you access to all hidden states in the sequence\n",
    "# \"hidden\" will allow you to continue the sequence and backpropagate,\n",
    "# by passing it as an argument  to the lstm at a later time\n",
    "# Add the extra 2nd dimension\n",
    "inputs = torch.cat(inputs).view(len(inputs), 1, -1)\n",
    "hidden = (torch.randn(1, 1, 3), torch.randn(1, 1, 3))  # clean out hidden state\n",
    "out, hidden = lstm(inputs, hidden)\n",
    "print(out)\n",
    "print(hidden)"
   ]
  },
  {
   "cell_type": "code",
   "execution_count": 34,
   "metadata": {},
   "outputs": [
    {
     "name": "stdout",
     "output_type": "stream",
     "text": [
      "{'I': 0, 'AM': 1, 'PABITRA': 2, 'PRASAD': 3, 'PANI,I': 4, 'STAYING': 5, 'AT': 6, 'BANGALORE': 7, 'PANI': 8, 'IS': 9, 'AN': 10, 'INDIAN': 11, '&': 12, 'LOVE': 13, 'MY': 14, 'INDIA': 15}\n"
     ]
    }
   ],
   "source": [
    "def prepare_sequence(seq, to_ix):\n",
    "    idxs = [to_ix[w] for w in seq]\n",
    "    return torch.tensor(idxs, dtype=torch.long)\n",
    "\n",
    "\n",
    "training_data = [\n",
    "    (\"I AM PABITRA PRASAD PANI,I AM STAYING AT BANGALORE\".split(), [\"DET\", \"NN\", \"V\", \"DET\", \"NN\",\"V\",\"DET\", \"NN\", \"V\"]),\n",
    "    (\"PABITRA PRASAD PANI IS AN INDIAN & I LOVE MY INDIA\".split(), [\"NN\", \"V\", \"DET\", \"NN\",\"NN\", \"V\", \"DET\", \"NN\",\"NN\", \"V\", \"DET\"])\n",
    "]\n",
    "word_to_ix = {}\n",
    "for sent, tags in training_data:\n",
    "    for word in sent:\n",
    "        if word not in word_to_ix:\n",
    "            word_to_ix[word] = len(word_to_ix)\n",
    "print(word_to_ix)\n",
    "tag_to_ix = {\"DET\": 0, \"NN\": 1, \"V\": 2}\n",
    "\n",
    "# These will usually be more like 32 or 64 dimensional.\n",
    "# We will keep them small, so we can see how the weights change as we train.\n",
    "EMBEDDING_DIM = 6\n",
    "HIDDEN_DIM = 6"
   ]
  },
  {
   "cell_type": "code",
   "execution_count": 35,
   "metadata": {},
   "outputs": [],
   "source": [
    "class LSTMTagger(nn.Module):\n",
    "\n",
    "    def __init__(self, embedding_dim, hidden_dim, vocab_size, tagset_size):\n",
    "        super(LSTMTagger, self).__init__()\n",
    "        self.hidden_dim = hidden_dim\n",
    "\n",
    "        self.word_embeddings = nn.Embedding(vocab_size, embedding_dim)\n",
    "\n",
    "        # The LSTM takes word embeddings as inputs, and outputs hidden states\n",
    "        # with dimensionality hidden_dim.\n",
    "        self.lstm = nn.LSTM(embedding_dim, hidden_dim)\n",
    "\n",
    "        # The linear layer that maps from hidden state space to tag space\n",
    "        self.hidden2tag = nn.Linear(hidden_dim, tagset_size)\n",
    "\n",
    "    def forward(self, sentence):\n",
    "        embeds = self.word_embeddings(sentence)\n",
    "        lstm_out, _ = self.lstm(embeds.view(len(sentence), 1, -1))\n",
    "        tag_space = self.hidden2tag(lstm_out.view(len(sentence), -1))\n",
    "        tag_scores = F.log_softmax(tag_space, dim=1)\n",
    "        return tag_scores"
   ]
  },
  {
   "cell_type": "code",
   "execution_count": 36,
   "metadata": {},
   "outputs": [
    {
     "name": "stdout",
     "output_type": "stream",
     "text": [
      "tensor([[-0.8344, -1.2175, -1.3097],\n",
      "        [-0.8862, -1.1202, -1.3411],\n",
      "        [-0.8555, -1.1808, -1.3172],\n",
      "        [-0.8371, -1.2247, -1.2976],\n",
      "        [-0.8655, -1.1348, -1.3562],\n",
      "        [-0.9133, -1.0858, -1.3426],\n",
      "        [-0.9490, -0.9884, -1.4242],\n",
      "        [-0.9844, -0.9810, -1.3808],\n",
      "        [-0.8919, -1.0827, -1.3805]])\n",
      "tensor([[-0.2546, -1.5563, -4.2765],\n",
      "        [-3.6208, -0.1211, -2.4381],\n",
      "        [-3.6172, -2.4677, -0.1184],\n",
      "        [-0.2912, -3.4912, -1.5043],\n",
      "        [-5.6870, -0.0323, -3.5603],\n",
      "        [-3.1693, -2.4627, -0.1361],\n",
      "        [-0.1119, -2.6767, -3.2938],\n",
      "        [-2.6063, -0.1338, -2.9671],\n",
      "        [-3.9740, -3.3708, -0.0546]])\n"
     ]
    }
   ],
   "source": [
    "model = LSTMTagger(EMBEDDING_DIM, HIDDEN_DIM, len(word_to_ix), len(tag_to_ix))\n",
    "loss_function = nn.NLLLoss()\n",
    "optimizer = optim.SGD(model.parameters(), lr=0.1)\n",
    "\n",
    "# See what the scores are before training\n",
    "# Note that element i,j of the output is the score for tag j for word i.\n",
    "# Here we don't need to train, so the code is wrapped in torch.no_grad()\n",
    "with torch.no_grad():\n",
    "    inputs = prepare_sequence(training_data[0][0], word_to_ix)\n",
    "    tag_scores = model(inputs)\n",
    "    print(tag_scores)\n",
    "\n",
    "for epoch in range(300):  # again, normally you would NOT do 300 epochs, it is toy data\n",
    "    for sentence, tags in training_data:\n",
    "        # Step 1. Remember that Pytorch accumulates gradients.\n",
    "        # We need to clear them out before each instance\n",
    "        model.zero_grad()\n",
    "\n",
    "        # Step 2. Get our inputs ready for the network, that is, turn them into\n",
    "        # Tensors of word indices.\n",
    "        sentence_in = prepare_sequence(sentence, word_to_ix)\n",
    "        targets = prepare_sequence(tags, tag_to_ix)\n",
    "\n",
    "        # Step 3. Run our forward pass.\n",
    "        tag_scores = model(sentence_in)\n",
    "        \n",
    "        \n",
    "        # Step 4. Compute the loss, gradients, and update the parameters by\n",
    "        #  calling optimizer.step()\n",
    "        loss = loss_function(tag_scores, targets)\n",
    "        loss.backward()\n",
    "        optimizer.step()\n",
    "\n",
    "# See what the scores are after training\n",
    "with torch.no_grad():\n",
    "    inputs = prepare_sequence(training_data[0][0], word_to_ix)\n",
    "    tag_scores = model(inputs)\n",
    "\n",
    "    # The sentence is \"the dog ate the apple\".  i,j corresponds to score for tag j\n",
    "    # for word i. The predicted tag is the maximum scoring tag.\n",
    "    # Here, we can see the predicted sequence below is 0 1 2 0 1\n",
    "    # since 0 is index of the maximum value of row 1,\n",
    "    # 1 is the index of maximum value of row 2, etc.\n",
    "    # Which is DET NOUN VERB DET NOUN, the correct sequence!\n",
    "    print(tag_scores)"
   ]
  }
 ],
 "metadata": {
  "kernelspec": {
   "display_name": "Python 3",
   "language": "python",
   "name": "python3"
  },
  "language_info": {
   "codemirror_mode": {
    "name": "ipython",
    "version": 3
   },
   "file_extension": ".py",
   "mimetype": "text/x-python",
   "name": "python",
   "nbconvert_exporter": "python",
   "pygments_lexer": "ipython3",
   "version": "3.7.4"
  }
 },
 "nbformat": 4,
 "nbformat_minor": 2
}
